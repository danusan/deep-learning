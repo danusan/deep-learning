{
  "nbformat": 4,
  "nbformat_minor": 0,
  "metadata": {
    "colab": {
      "name": "Uebung_Jordan.ipynb",
      "provenance": [],
      "collapsed_sections": []
    },
    "kernelspec": {
      "name": "python3",
      "display_name": "Python 3"
    },
    "language_info": {
      "name": "python"
    }
  },
  "cells": [
    {
      "cell_type": "markdown",
      "metadata": {
        "id": "alRzB42MEJFr"
      },
      "source": [
        "# Übung \"Learn Deep-Learning and Blog about it\""
      ]
    },
    {
      "cell_type": "markdown",
      "metadata": {
        "id": "yQ6TI37vBHl_"
      },
      "source": [
        "# Was ich heute gelernt habe\n",
        "Für mich war Google Colab neu. Mit Notebook hatte ich schon in den vorherigen Übungen zu Data Analytics gearbeitet, sonst brauchte ich es auch nicht gross. Ich habe auch zum ersten Mal mit dem fastAI Repository gearbeitet. Am Anfang war es schwierig zu verstehen, wie das alles zusammen funktioniert, aber mit dem Video-Tutorial konnte ich diese Probleme lösen. Die Integration von Colab mit fastAI war ebenfalls neu für mich, aber auch hier gab es keine größeren Schwierigkeiten.\n"
      ]
    },
    {
      "cell_type": "markdown",
      "metadata": {
        "id": "9CKUZC-oBNG5"
      },
      "source": [
        "# “Deep Learning for Coders” (Fragen 1-9)\n",
        "\n",
        "1.   Can we always use a random sample for a validation set? Why or why not?\n",
        "*random sampling is a perfectly fine way to create a validation set. The training set and test set come from roughly the same distribution so your randomly sampled validation set is a good proxy for the test set. Typically when your model improves on your validation set, you'll also see improvements on your test set.*\n",
        "2.   What is overfitting? Provide an example.\n",
        "*(With training set and validation set measure accuracy)\n",
        "If you train for too long, with not enough data, you will see the accuracy of you model start to get worse; this is called overfitting*\n",
        "*Example: If our model does much better on the training set than on the test set, then we're likely overfitting. For example, it would be a big red flag if our model saw 99% accuracy on the training set but only 55% accuracy on the test set.*\n",
        "3.   What is a metric? How does it differ from \"loss\"?\n",
        "*A metric is used to judge the performance of your model. This is only for you to look at and has nothing to do with the optimization process. (What I care about=> error rate)*\n",
        "\n",
        "*The loss function is used to optimize your model. This is the function that will get minimized by the optimizer. (computer is using it=>measure of performance)*\n",
        "4.   How can pretrained models help?\n",
        "5.   What is the \"head\" of a model?\n",
        "6.   What kinds of features do the early layers of a CNN find? How about the later layers?\n",
        "7.   Are image models only useful for photos?\n",
        "8.   No you can use it for other thins tooWhat is an \"architecture\"?\n",
        "9.   What is segmentation?\n",
        "\n",
        "\n",
        "1.   Can we always use a random sample for a validation set? Why or why not?\n",
        "\n",
        "*random sampling is a perfectly fine way to create a validation set. The training set and test set come from roughly the same distribution so your randomly sampled validation set is a good proxy for the test set. Typically when your model improves on your validation set, you'll also see improvements on your test set.*\n",
        "\n",
        "2.\tWhat is overfitting? Provide an example.\n",
        "\n",
        "*(With training set and validation set measure accuracy)\n",
        "If you train for too long, with not enough data, you will see the accuracy of you model start to get worse; this is called overfitting*\n",
        "*Example: If our model does much better on the training set than on the test set, then we're likely overfitting. For example, it would be a big red flag if our model saw 99% accuracy on the training set but only 55% accuracy on the test set.*\n",
        "\n",
        "\n",
        "3.\tWhat is a metric? How does it differ from \"loss\"?\n",
        "\n",
        "*A metric is used to judge the performance of your model. This is only for you to look at and has nothing to do with the optimization process. (What I care about=> error rate)*\n",
        "\n",
        "*The loss function is used to optimize your model. This is the function that will get minimized by the optimizer. (computer is using it=>measure of performance)*\n",
        "\n",
        "4.\tHow can pretrained models help?\n",
        "\n",
        "*(You don’t have to work from scratch)- Models that are pre-trained on ImageNet are good at detecting high-level features like edges, patterns, etc. These models understand certain feature representations, which can be reused.*\n",
        "\n",
        "5.\tWhat is the \"head\" of a model?\n",
        "\n",
        "*Head is the top of a network. For instance, on the bottom (where data comes in) you take convolution layers of some model, say resnet.*\n",
        "\n",
        "6.\tWhat kinds of features do the early layers of a CNN find? How about the later layers?\n",
        "\n",
        "*Find forms, text etc*\n",
        "\n",
        "7.\tAre image models only useful for photos?\n",
        "\n",
        "*No you can use it also for others*\n",
        "\n",
        "8.\tNo you can use it for other thins tooWhat is an \"architecture\"?\n",
        "\n",
        "*mathematical function, that you optimize, tells about how many layers are*\n",
        "OR\n",
        "*The template of the model that we’re trying to fit; the actual mathematical function that we’re passing the input data and parameters to*\n",
        "\n",
        "9.\tWhat is segmentation?\n",
        "\n",
        "*Customer segmentation: How machine learning makes marketing smart. ... This is possible through segmentation, the process of dividing customers into different groups based on their behavior or characteristics.*\n"
      ]
    }
  ]
}